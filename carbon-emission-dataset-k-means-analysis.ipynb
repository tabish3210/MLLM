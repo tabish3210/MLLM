{
 "cells": [
  {
   "cell_type": "markdown",
   "metadata": {
    "papermill": {
     "duration": 0.015173,
     "end_time": "2021-03-22T17:13:08.719603",
     "exception": false,
     "start_time": "2021-03-22T17:13:08.704430",
     "status": "completed"
    },
    "tags": []
   },
   "source": [
    "# Carbon Emission India Dataset"
   ]
  },
  {
   "cell_type": "code",
   "execution_count": 1,
   "metadata": {
    "execution": {
     "iopub.execute_input": "2021-03-22T17:13:08.754195Z",
     "iopub.status.busy": "2021-03-22T17:13:08.753485Z",
     "iopub.status.idle": "2021-03-22T17:13:09.506606Z",
     "shell.execute_reply": "2021-03-22T17:13:09.505541Z"
    },
    "papermill": {
     "duration": 0.772693,
     "end_time": "2021-03-22T17:13:09.506845",
     "exception": false,
     "start_time": "2021-03-22T17:13:08.734152",
     "status": "completed"
    },
    "tags": []
   },
   "outputs": [],
   "source": [
    "import numpy as np\n",
    "import pandas as pd\n",
    "import matplotlib.pyplot as plt\n",
    "import seaborn as sns"
   ]
  },
  {
   "cell_type": "code",
   "execution_count": 2,
   "metadata": {
    "execution": {
     "iopub.execute_input": "2021-03-22T17:13:09.540848Z",
     "iopub.status.busy": "2021-03-22T17:13:09.540182Z",
     "iopub.status.idle": "2021-03-22T17:13:09.580587Z",
     "shell.execute_reply": "2021-03-22T17:13:09.580128Z"
    },
    "papermill": {
     "duration": 0.059394,
     "end_time": "2021-03-22T17:13:09.580740",
     "exception": false,
     "start_time": "2021-03-22T17:13:09.521346",
     "status": "completed"
    },
    "tags": []
   },
   "outputs": [
    {
     "data": {
      "text/html": [
       "<div>\n",
       "<style scoped>\n",
       "    .dataframe tbody tr th:only-of-type {\n",
       "        vertical-align: middle;\n",
       "    }\n",
       "\n",
       "    .dataframe tbody tr th {\n",
       "        vertical-align: top;\n",
       "    }\n",
       "\n",
       "    .dataframe thead th {\n",
       "        text-align: right;\n",
       "    }\n",
       "</style>\n",
       "<table border=\"1\" class=\"dataframe\">\n",
       "  <thead>\n",
       "    <tr style=\"text-align: right;\">\n",
       "      <th></th>\n",
       "      <th>States</th>\n",
       "      <th>per capita CO2 (kg per person)</th>\n",
       "      <th>per capita CO (kg per person)</th>\n",
       "      <th>per capita CH4 (kg per person)</th>\n",
       "    </tr>\n",
       "  </thead>\n",
       "  <tbody>\n",
       "    <tr>\n",
       "      <th>0</th>\n",
       "      <td>Andhra Pradesh</td>\n",
       "      <td>974.17</td>\n",
       "      <td>27.18</td>\n",
       "      <td>16.97</td>\n",
       "    </tr>\n",
       "    <tr>\n",
       "      <th>1</th>\n",
       "      <td>Arunachal</td>\n",
       "      <td>405.90</td>\n",
       "      <td>17.43</td>\n",
       "      <td>25.82</td>\n",
       "    </tr>\n",
       "    <tr>\n",
       "      <th>2</th>\n",
       "      <td>Assam</td>\n",
       "      <td>340.91</td>\n",
       "      <td>16.63</td>\n",
       "      <td>21.29</td>\n",
       "    </tr>\n",
       "    <tr>\n",
       "      <th>3</th>\n",
       "      <td>Bihar</td>\n",
       "      <td>179.01</td>\n",
       "      <td>8.83</td>\n",
       "      <td>9.59</td>\n",
       "    </tr>\n",
       "    <tr>\n",
       "      <th>4</th>\n",
       "      <td>Chattisgarh</td>\n",
       "      <td>1963.88</td>\n",
       "      <td>17.56</td>\n",
       "      <td>22.37</td>\n",
       "    </tr>\n",
       "    <tr>\n",
       "      <th>5</th>\n",
       "      <td>Goa</td>\n",
       "      <td>2662.51</td>\n",
       "      <td>23.12</td>\n",
       "      <td>7.62</td>\n",
       "    </tr>\n",
       "    <tr>\n",
       "      <th>6</th>\n",
       "      <td>Gujarat</td>\n",
       "      <td>1310.58</td>\n",
       "      <td>24.01</td>\n",
       "      <td>12.26</td>\n",
       "    </tr>\n",
       "    <tr>\n",
       "      <th>7</th>\n",
       "      <td>Haryana</td>\n",
       "      <td>1381.86</td>\n",
       "      <td>17.90</td>\n",
       "      <td>21.57</td>\n",
       "    </tr>\n",
       "    <tr>\n",
       "      <th>8</th>\n",
       "      <td>Himachal Pradesh</td>\n",
       "      <td>784.16</td>\n",
       "      <td>16.98</td>\n",
       "      <td>18.28</td>\n",
       "    </tr>\n",
       "    <tr>\n",
       "      <th>9</th>\n",
       "      <td>Jammu &amp; Kashmir</td>\n",
       "      <td>509.03</td>\n",
       "      <td>15.59</td>\n",
       "      <td>14.42</td>\n",
       "    </tr>\n",
       "  </tbody>\n",
       "</table>\n",
       "</div>"
      ],
      "text/plain": [
       "             States  per capita CO2 (kg per person)  \\\n",
       "0    Andhra Pradesh                          974.17   \n",
       "1         Arunachal                          405.90   \n",
       "2             Assam                          340.91   \n",
       "3             Bihar                          179.01   \n",
       "4       Chattisgarh                         1963.88   \n",
       "5               Goa                         2662.51   \n",
       "6           Gujarat                         1310.58   \n",
       "7           Haryana                         1381.86   \n",
       "8  Himachal Pradesh                          784.16   \n",
       "9   Jammu & Kashmir                          509.03   \n",
       "\n",
       "   per capita CO (kg per person)  per capita CH4 (kg per person)  \n",
       "0                          27.18                           16.97  \n",
       "1                          17.43                           25.82  \n",
       "2                          16.63                           21.29  \n",
       "3                           8.83                            9.59  \n",
       "4                          17.56                           22.37  \n",
       "5                          23.12                            7.62  \n",
       "6                          24.01                           12.26  \n",
       "7                          17.90                           21.57  \n",
       "8                          16.98                           18.28  \n",
       "9                          15.59                           14.42  "
      ]
     },
     "execution_count": 2,
     "metadata": {},
     "output_type": "execute_result"
    }
   ],
   "source": [
    "d1 = pd.read_csv('../input/carbon-emission-india/CarbonEmissionIndia.csv')\n",
    "d1.head(10)"
   ]
  },
  {
   "cell_type": "code",
   "execution_count": 3,
   "metadata": {
    "execution": {
     "iopub.execute_input": "2021-03-22T17:13:09.616108Z",
     "iopub.status.busy": "2021-03-22T17:13:09.615396Z",
     "iopub.status.idle": "2021-03-22T17:13:09.618980Z",
     "shell.execute_reply": "2021-03-22T17:13:09.619410Z"
    },
    "papermill": {
     "duration": 0.023651,
     "end_time": "2021-03-22T17:13:09.619567",
     "exception": false,
     "start_time": "2021-03-22T17:13:09.595916",
     "status": "completed"
    },
    "tags": []
   },
   "outputs": [
    {
     "data": {
      "text/plain": [
       "(28, 4)"
      ]
     },
     "execution_count": 3,
     "metadata": {},
     "output_type": "execute_result"
    }
   ],
   "source": [
    "d1.shape"
   ]
  },
  {
   "cell_type": "code",
   "execution_count": 4,
   "metadata": {
    "execution": {
     "iopub.execute_input": "2021-03-22T17:13:09.653672Z",
     "iopub.status.busy": "2021-03-22T17:13:09.653092Z",
     "iopub.status.idle": "2021-03-22T17:13:09.665219Z",
     "shell.execute_reply": "2021-03-22T17:13:09.664711Z"
    },
    "papermill": {
     "duration": 0.03026,
     "end_time": "2021-03-22T17:13:09.665354",
     "exception": false,
     "start_time": "2021-03-22T17:13:09.635094",
     "status": "completed"
    },
    "tags": []
   },
   "outputs": [
    {
     "data": {
      "text/html": [
       "<div>\n",
       "<style scoped>\n",
       "    .dataframe tbody tr th:only-of-type {\n",
       "        vertical-align: middle;\n",
       "    }\n",
       "\n",
       "    .dataframe tbody tr th {\n",
       "        vertical-align: top;\n",
       "    }\n",
       "\n",
       "    .dataframe thead th {\n",
       "        text-align: right;\n",
       "    }\n",
       "</style>\n",
       "<table border=\"1\" class=\"dataframe\">\n",
       "  <thead>\n",
       "    <tr style=\"text-align: right;\">\n",
       "      <th></th>\n",
       "      <th>per capita CO2 (kg per person)</th>\n",
       "      <th>per capita CO (kg per person)</th>\n",
       "      <th>per capita CH4 (kg per person)</th>\n",
       "    </tr>\n",
       "  </thead>\n",
       "  <tbody>\n",
       "    <tr>\n",
       "      <th>per capita CO2 (kg per person)</th>\n",
       "      <td>1.000000</td>\n",
       "      <td>0.516380</td>\n",
       "      <td>0.044667</td>\n",
       "    </tr>\n",
       "    <tr>\n",
       "      <th>per capita CO (kg per person)</th>\n",
       "      <td>0.516380</td>\n",
       "      <td>1.000000</td>\n",
       "      <td>0.135935</td>\n",
       "    </tr>\n",
       "    <tr>\n",
       "      <th>per capita CH4 (kg per person)</th>\n",
       "      <td>0.044667</td>\n",
       "      <td>0.135935</td>\n",
       "      <td>1.000000</td>\n",
       "    </tr>\n",
       "  </tbody>\n",
       "</table>\n",
       "</div>"
      ],
      "text/plain": [
       "                                per capita CO2 (kg per person)  \\\n",
       "per capita CO2 (kg per person)                        1.000000   \n",
       "per capita CO (kg per person)                         0.516380   \n",
       "per capita CH4 (kg per person)                        0.044667   \n",
       "\n",
       "                                per capita CO (kg per person)  \\\n",
       "per capita CO2 (kg per person)                       0.516380   \n",
       "per capita CO (kg per person)                        1.000000   \n",
       "per capita CH4 (kg per person)                       0.135935   \n",
       "\n",
       "                                per capita CH4 (kg per person)  \n",
       "per capita CO2 (kg per person)                        0.044667  \n",
       "per capita CO (kg per person)                         0.135935  \n",
       "per capita CH4 (kg per person)                        1.000000  "
      ]
     },
     "execution_count": 4,
     "metadata": {},
     "output_type": "execute_result"
    }
   ],
   "source": [
    "d1.corr()"
   ]
  },
  {
   "cell_type": "code",
   "execution_count": 5,
   "metadata": {
    "execution": {
     "iopub.execute_input": "2021-03-22T17:13:09.702267Z",
     "iopub.status.busy": "2021-03-22T17:13:09.701524Z",
     "iopub.status.idle": "2021-03-22T17:13:09.704893Z",
     "shell.execute_reply": "2021-03-22T17:13:09.705405Z"
    },
    "papermill": {
     "duration": 0.024301,
     "end_time": "2021-03-22T17:13:09.705560",
     "exception": false,
     "start_time": "2021-03-22T17:13:09.681259",
     "status": "completed"
    },
    "tags": []
   },
   "outputs": [
    {
     "data": {
      "text/plain": [
       "Index(['States', 'per capita CO2 (kg per person)',\n",
       "       'per capita CO (kg per person)', 'per capita CH4 (kg per person)'],\n",
       "      dtype='object')"
      ]
     },
     "execution_count": 5,
     "metadata": {},
     "output_type": "execute_result"
    }
   ],
   "source": [
    "d1.columns"
   ]
  },
  {
   "cell_type": "code",
   "execution_count": 6,
   "metadata": {
    "execution": {
     "iopub.execute_input": "2021-03-22T17:13:09.757175Z",
     "iopub.status.busy": "2021-03-22T17:13:09.745428Z",
     "iopub.status.idle": "2021-03-22T17:13:09.762015Z",
     "shell.execute_reply": "2021-03-22T17:13:09.761478Z"
    },
    "papermill": {
     "duration": 0.040356,
     "end_time": "2021-03-22T17:13:09.762158",
     "exception": false,
     "start_time": "2021-03-22T17:13:09.721802",
     "status": "completed"
    },
    "tags": []
   },
   "outputs": [
    {
     "data": {
      "text/html": [
       "<div>\n",
       "<style scoped>\n",
       "    .dataframe tbody tr th:only-of-type {\n",
       "        vertical-align: middle;\n",
       "    }\n",
       "\n",
       "    .dataframe tbody tr th {\n",
       "        vertical-align: top;\n",
       "    }\n",
       "\n",
       "    .dataframe thead th {\n",
       "        text-align: right;\n",
       "    }\n",
       "</style>\n",
       "<table border=\"1\" class=\"dataframe\">\n",
       "  <thead>\n",
       "    <tr style=\"text-align: right;\">\n",
       "      <th></th>\n",
       "      <th>per capita CO2 (kg per person)</th>\n",
       "      <th>per capita CO (kg per person)</th>\n",
       "      <th>per capita CH4 (kg per person)</th>\n",
       "    </tr>\n",
       "  </thead>\n",
       "  <tbody>\n",
       "    <tr>\n",
       "      <th>count</th>\n",
       "      <td>28.000000</td>\n",
       "      <td>28.000000</td>\n",
       "      <td>28.000000</td>\n",
       "    </tr>\n",
       "    <tr>\n",
       "      <th>mean</th>\n",
       "      <td>894.401071</td>\n",
       "      <td>18.293214</td>\n",
       "      <td>16.549286</td>\n",
       "    </tr>\n",
       "    <tr>\n",
       "      <th>std</th>\n",
       "      <td>547.619397</td>\n",
       "      <td>5.258928</td>\n",
       "      <td>6.599384</td>\n",
       "    </tr>\n",
       "    <tr>\n",
       "      <th>min</th>\n",
       "      <td>179.010000</td>\n",
       "      <td>8.830000</td>\n",
       "      <td>4.520000</td>\n",
       "    </tr>\n",
       "    <tr>\n",
       "      <th>25%</th>\n",
       "      <td>505.025000</td>\n",
       "      <td>14.847500</td>\n",
       "      <td>11.830000</td>\n",
       "    </tr>\n",
       "    <tr>\n",
       "      <th>50%</th>\n",
       "      <td>771.625000</td>\n",
       "      <td>17.495000</td>\n",
       "      <td>15.690000</td>\n",
       "    </tr>\n",
       "    <tr>\n",
       "      <th>75%</th>\n",
       "      <td>1058.092500</td>\n",
       "      <td>23.235000</td>\n",
       "      <td>20.232500</td>\n",
       "    </tr>\n",
       "    <tr>\n",
       "      <th>max</th>\n",
       "      <td>2662.510000</td>\n",
       "      <td>27.900000</td>\n",
       "      <td>33.380000</td>\n",
       "    </tr>\n",
       "  </tbody>\n",
       "</table>\n",
       "</div>"
      ],
      "text/plain": [
       "       per capita CO2 (kg per person)  per capita CO (kg per person)  \\\n",
       "count                       28.000000                      28.000000   \n",
       "mean                       894.401071                      18.293214   \n",
       "std                        547.619397                       5.258928   \n",
       "min                        179.010000                       8.830000   \n",
       "25%                        505.025000                      14.847500   \n",
       "50%                        771.625000                      17.495000   \n",
       "75%                       1058.092500                      23.235000   \n",
       "max                       2662.510000                      27.900000   \n",
       "\n",
       "       per capita CH4 (kg per person)  \n",
       "count                       28.000000  \n",
       "mean                        16.549286  \n",
       "std                          6.599384  \n",
       "min                          4.520000  \n",
       "25%                         11.830000  \n",
       "50%                         15.690000  \n",
       "75%                         20.232500  \n",
       "max                         33.380000  "
      ]
     },
     "execution_count": 6,
     "metadata": {},
     "output_type": "execute_result"
    }
   ],
   "source": [
    "d1.describe()"
   ]
  },
  {
   "cell_type": "code",
   "execution_count": 7,
   "metadata": {
    "execution": {
     "iopub.execute_input": "2021-03-22T17:13:09.799758Z",
     "iopub.status.busy": "2021-03-22T17:13:09.799169Z",
     "iopub.status.idle": "2021-03-22T17:13:09.816029Z",
     "shell.execute_reply": "2021-03-22T17:13:09.815435Z"
    },
    "papermill": {
     "duration": 0.036634,
     "end_time": "2021-03-22T17:13:09.816165",
     "exception": false,
     "start_time": "2021-03-22T17:13:09.779531",
     "status": "completed"
    },
    "tags": []
   },
   "outputs": [
    {
     "name": "stdout",
     "output_type": "stream",
     "text": [
      "<class 'pandas.core.frame.DataFrame'>\n",
      "RangeIndex: 28 entries, 0 to 27\n",
      "Data columns (total 4 columns):\n",
      " #   Column                          Non-Null Count  Dtype  \n",
      "---  ------                          --------------  -----  \n",
      " 0   States                          28 non-null     object \n",
      " 1   per capita CO2 (kg per person)  28 non-null     float64\n",
      " 2   per capita CO (kg per person)   28 non-null     float64\n",
      " 3   per capita CH4 (kg per person)  28 non-null     float64\n",
      "dtypes: float64(3), object(1)\n",
      "memory usage: 1.0+ KB\n"
     ]
    }
   ],
   "source": [
    "d1.info()"
   ]
  },
  {
   "cell_type": "code",
   "execution_count": 8,
   "metadata": {
    "execution": {
     "iopub.execute_input": "2021-03-22T17:13:09.856210Z",
     "iopub.status.busy": "2021-03-22T17:13:09.855579Z",
     "iopub.status.idle": "2021-03-22T17:13:10.419321Z",
     "shell.execute_reply": "2021-03-22T17:13:10.418801Z"
    },
    "papermill": {
     "duration": 0.584253,
     "end_time": "2021-03-22T17:13:10.419461",
     "exception": false,
     "start_time": "2021-03-22T17:13:09.835208",
     "status": "completed"
    },
    "tags": []
   },
   "outputs": [
    {
     "data": {
      "text/plain": [
       "array([[<AxesSubplot:title={'center':'per capita CO2 (kg per person)'}>,\n",
       "        <AxesSubplot:title={'center':'per capita CO (kg per person)'}>],\n",
       "       [<AxesSubplot:title={'center':'per capita CH4 (kg per person)'}>,\n",
       "        <AxesSubplot:>]], dtype=object)"
      ]
     },
     "execution_count": 8,
     "metadata": {},
     "output_type": "execute_result"
    },
    {
     "data": {
      "image/png": "[encoded data removed]",
      "text/plain": [
       "<Figure size 720x720 with 4 Axes>"
      ]
     },
     "metadata": {
      "needs_background": "light"
     },
     "output_type": "display_data"
    }
   ],
   "source": [
    "d1.hist(figsize=(10,10))"
   ]
  },
  {
   "cell_type": "code",
   "execution_count": 9,
   "metadata": {
    "execution": {
     "iopub.execute_input": "2021-03-22T17:13:10.464660Z",
     "iopub.status.busy": "2021-03-22T17:13:10.463827Z",
     "iopub.status.idle": "2021-03-22T17:13:10.468166Z",
     "shell.execute_reply": "2021-03-22T17:13:10.467662Z"
    },
    "papermill": {
     "duration": 0.029952,
     "end_time": "2021-03-22T17:13:10.468303",
     "exception": false,
     "start_time": "2021-03-22T17:13:10.438351",
     "status": "completed"
    },
    "tags": []
   },
   "outputs": [
    {
     "data": {
      "text/plain": [
       "States                            0\n",
       "per capita CO2 (kg per person)    0\n",
       "per capita CO (kg per person)     0\n",
       "per capita CH4 (kg per person)    0\n",
       "dtype: int64"
      ]
     },
     "execution_count": 9,
     "metadata": {},
     "output_type": "execute_result"
    }
   ],
   "source": [
    "# Check for null value count\n",
    "d1.isnull().sum()"
   ]
  },
  {
   "cell_type": "code",
   "execution_count": 10,
   "metadata": {
    "execution": {
     "iopub.execute_input": "2021-03-22T17:13:10.511454Z",
     "iopub.status.busy": "2021-03-22T17:13:10.510772Z",
     "iopub.status.idle": "2021-03-22T17:13:10.779297Z",
     "shell.execute_reply": "2021-03-22T17:13:10.779745Z"
    },
    "papermill": {
     "duration": 0.292603,
     "end_time": "2021-03-22T17:13:10.779927",
     "exception": false,
     "start_time": "2021-03-22T17:13:10.487324",
     "status": "completed"
    },
    "tags": []
   },
   "outputs": [
    {
     "data": {
      "image/png": "[encoded data removed]",
      "text/plain": [
       "<Figure size 432x288 with 1 Axes>"
      ]
     },
     "metadata": {
      "needs_background": "light"
     },
     "output_type": "display_data"
    }
   ],
   "source": [
    "from statsmodels.graphics.gofplots import qqplot\n",
    "\n",
    "qqplot(d1[['per capita CO2 (kg per person)','per capita CO (kg per person)', 'per capita CH4 (kg per person)']],line='s')\n",
    "plt.show()"
   ]
  },
  {
   "cell_type": "code",
   "execution_count": 11,
   "metadata": {
    "execution": {
     "iopub.execute_input": "2021-03-22T17:13:10.828233Z",
     "iopub.status.busy": "2021-03-22T17:13:10.827544Z",
     "iopub.status.idle": "2021-03-22T17:13:10.831390Z",
     "shell.execute_reply": "2021-03-22T17:13:10.830917Z"
    },
    "papermill": {
     "duration": 0.031209,
     "end_time": "2021-03-22T17:13:10.831526",
     "exception": false,
     "start_time": "2021-03-22T17:13:10.800317",
     "status": "completed"
    },
    "tags": []
   },
   "outputs": [
    {
     "name": "stdout",
     "output_type": "stream",
     "text": [
      "[1.42821594 0.2642628  0.55688343]\n"
     ]
    }
   ],
   "source": [
    "from scipy.stats import skew\n",
    "\n",
    "print(skew(d1[['per capita CO2 (kg per person)','per capita CO (kg per person)', 'per capita CH4 (kg per person)']]))"
   ]
  },
  {
   "cell_type": "markdown",
   "metadata": {
    "papermill": {
     "duration": 0.021124,
     "end_time": "2021-03-22T17:13:10.873450",
     "exception": false,
     "start_time": "2021-03-22T17:13:10.852326",
     "status": "completed"
    },
    "tags": []
   },
   "source": [
    "Data is not following Normal/Gaussian Distribution.<br>\n",
    "Needs to be scaled."
   ]
  },
  {
   "cell_type": "code",
   "execution_count": 12,
   "metadata": {
    "execution": {
     "iopub.execute_input": "2021-03-22T17:13:10.936969Z",
     "iopub.status.busy": "2021-03-22T17:13:10.928281Z",
     "iopub.status.idle": "2021-03-22T17:13:11.248202Z",
     "shell.execute_reply": "2021-03-22T17:13:11.247640Z"
    },
    "papermill": {
     "duration": 0.354229,
     "end_time": "2021-03-22T17:13:11.248358",
     "exception": false,
     "start_time": "2021-03-22T17:13:10.894129",
     "status": "completed"
    },
    "tags": []
   },
   "outputs": [
    {
     "data": {
      "image/png": "[encoded data removed]",
      "text/plain": [
       "<Figure size 936x360 with 3 Axes>"
      ]
     },
     "metadata": {
      "needs_background": "light"
     },
     "output_type": "display_data"
    }
   ],
   "source": [
    "plt.figure(figsize=(13,5))\n",
    "\n",
    "for feat, grd in zip(d1[['per capita CO2 (kg per person)','per capita CO (kg per person)', 'per capita CH4 (kg per person)']], range(231,237)):\n",
    "    plt.subplot(grd)\n",
    "    sns.boxplot(y=d1[feat], color='grey')\n",
    "    plt.ylabel('Value')\n",
    "    plt.title('Boxplot\\n%s'%feat)\n",
    "plt.tight_layout()"
   ]
  },
  {
   "cell_type": "code",
   "execution_count": 13,
   "metadata": {
    "execution": {
     "iopub.execute_input": "2021-03-22T17:13:11.300890Z",
     "iopub.status.busy": "2021-03-22T17:13:11.300059Z",
     "iopub.status.idle": "2021-03-22T17:13:11.302861Z",
     "shell.execute_reply": "2021-03-22T17:13:11.302210Z"
    },
    "papermill": {
     "duration": 0.03036,
     "end_time": "2021-03-22T17:13:11.303003",
     "exception": false,
     "start_time": "2021-03-22T17:13:11.272643",
     "status": "completed"
    },
    "tags": []
   },
   "outputs": [],
   "source": [
    "y1 = d1['States']\n",
    "X1 = d1[['per capita CO2 (kg per person)','per capita CO (kg per person)', 'per capita CH4 (kg per person)']]"
   ]
  },
  {
   "cell_type": "code",
   "execution_count": 14,
   "metadata": {
    "execution": {
     "iopub.execute_input": "2021-03-22T17:13:11.353326Z",
     "iopub.status.busy": "2021-03-22T17:13:11.352630Z",
     "iopub.status.idle": "2021-03-22T17:13:11.662585Z",
     "shell.execute_reply": "2021-03-22T17:13:11.663280Z"
    },
    "papermill": {
     "duration": 0.338293,
     "end_time": "2021-03-22T17:13:11.663472",
     "exception": false,
     "start_time": "2021-03-22T17:13:11.325179",
     "status": "completed"
    },
    "tags": []
   },
   "outputs": [
    {
     "name": "stdout",
     "output_type": "stream",
     "text": [
      "(28, 3)\n"
     ]
    },
    {
     "data": {
      "image/png": "[encoded data removed]",
      "text/plain": [
       "<Figure size 432x288 with 1 Axes>"
      ]
     },
     "metadata": {
      "needs_background": "light"
     },
     "output_type": "display_data"
    }
   ],
   "source": [
    "# Scaling Data using Min-Max Scaler\n",
    "\n",
    "from sklearn.preprocessing import MinMaxScaler\n",
    "mms = MinMaxScaler()\n",
    "X_norm_1 = mms.fit_transform(X1)\n",
    "\n",
    "# Scaling Data using Standard Scaler\n",
    "\n",
    "from sklearn.preprocessing import StandardScaler\n",
    "scaler = StandardScaler()\n",
    "scaler.fit(X1)\n",
    "X_std_1 = scaler.transform(X1)\n",
    "\n",
    "\n",
    "# Comparing Scaled Data\n",
    "\n",
    "xx = np.arange(len(X_std_1))\n",
    "yy1 = X_norm_1[:,0]\n",
    "yy2 = X_std_1[:,0]\n",
    "plt.scatter(xx,yy1,color='b')\n",
    "plt.scatter(xx,yy2,color='r')\n",
    "\n",
    "print(X_std_1.shape)"
   ]
  },
  {
   "cell_type": "code",
   "execution_count": 15,
   "metadata": {
    "execution": {
     "iopub.execute_input": "2021-03-22T17:13:11.714589Z",
     "iopub.status.busy": "2021-03-22T17:13:11.713962Z",
     "iopub.status.idle": "2021-03-22T17:13:11.922819Z",
     "shell.execute_reply": "2021-03-22T17:13:11.922228Z"
    },
    "papermill": {
     "duration": 0.236402,
     "end_time": "2021-03-22T17:13:11.922990",
     "exception": false,
     "start_time": "2021-03-22T17:13:11.686588",
     "status": "completed"
    },
    "tags": []
   },
   "outputs": [],
   "source": [
    "from sklearn.decomposition import PCA\n",
    "\n",
    "pca = PCA(n_components=2)\n",
    "X_pca_1 = pca.fit_transform(X_norm_1)"
   ]
  },
  {
   "cell_type": "code",
   "execution_count": 16,
   "metadata": {
    "execution": {
     "iopub.execute_input": "2021-03-22T17:13:11.973750Z",
     "iopub.status.busy": "2021-03-22T17:13:11.973116Z",
     "iopub.status.idle": "2021-03-22T17:13:12.166959Z",
     "shell.execute_reply": "2021-03-22T17:13:12.166441Z"
    },
    "papermill": {
     "duration": 0.221228,
     "end_time": "2021-03-22T17:13:12.167128",
     "exception": false,
     "start_time": "2021-03-22T17:13:11.945900",
     "status": "completed"
    },
    "tags": []
   },
   "outputs": [
    {
     "data": {
      "text/plain": [
       "KMeans(n_clusters=3, random_state=21)"
      ]
     },
     "execution_count": 16,
     "metadata": {},
     "output_type": "execute_result"
    }
   ],
   "source": [
    "from sklearn.cluster import KMeans\n",
    "\n",
    "model1 = KMeans(random_state=21,n_clusters=3)\n",
    "model1.fit(X_pca_1)"
   ]
  },
  {
   "cell_type": "code",
   "execution_count": 17,
   "metadata": {
    "execution": {
     "iopub.execute_input": "2021-03-22T17:13:12.220474Z",
     "iopub.status.busy": "2021-03-22T17:13:12.219783Z",
     "iopub.status.idle": "2021-03-22T17:13:12.222921Z",
     "shell.execute_reply": "2021-03-22T17:13:12.223418Z"
    },
    "papermill": {
     "duration": 0.031917,
     "end_time": "2021-03-22T17:13:12.223577",
     "exception": false,
     "start_time": "2021-03-22T17:13:12.191660",
     "status": "completed"
    },
    "tags": []
   },
   "outputs": [
    {
     "data": {
      "text/plain": [
       "array([1, 0, 0, 0, 1, 1, 1, 1, 0, 0, 0, 1, 0, 0, 1, 0, 0, 0, 2, 0, 2, 0,\n",
       "       0, 1, 0, 0, 0, 1], dtype=int32)"
      ]
     },
     "execution_count": 17,
     "metadata": {},
     "output_type": "execute_result"
    }
   ],
   "source": [
    "model1.labels_"
   ]
  },
  {
   "cell_type": "code",
   "execution_count": 18,
   "metadata": {
    "execution": {
     "iopub.execute_input": "2021-03-22T17:13:12.276062Z",
     "iopub.status.busy": "2021-03-22T17:13:12.275403Z",
     "iopub.status.idle": "2021-03-22T17:13:12.278274Z",
     "shell.execute_reply": "2021-03-22T17:13:12.278763Z"
    },
    "papermill": {
     "duration": 0.031421,
     "end_time": "2021-03-22T17:13:12.278926",
     "exception": false,
     "start_time": "2021-03-22T17:13:12.247505",
     "status": "completed"
    },
    "tags": []
   },
   "outputs": [
    {
     "data": {
      "text/plain": [
       "array([[-0.21451507,  0.01945071],\n",
       "       [ 0.28404329, -0.12960032],\n",
       "       [ 0.54518331,  0.41787041]])"
      ]
     },
     "execution_count": 18,
     "metadata": {},
     "output_type": "execute_result"
    }
   ],
   "source": [
    "k1=model1.cluster_centers_\n",
    "k1"
   ]
  },
  {
   "cell_type": "code",
   "execution_count": 19,
   "metadata": {
    "execution": {
     "iopub.execute_input": "2021-03-22T17:13:12.332669Z",
     "iopub.status.busy": "2021-03-22T17:13:12.332011Z",
     "iopub.status.idle": "2021-03-22T17:13:12.675542Z",
     "shell.execute_reply": "2021-03-22T17:13:12.674820Z"
    },
    "papermill": {
     "duration": 0.37176,
     "end_time": "2021-03-22T17:13:12.675684",
     "exception": false,
     "start_time": "2021-03-22T17:13:12.303924",
     "status": "completed"
    },
    "tags": []
   },
   "outputs": [],
   "source": [
    "s = []\n",
    "for i in range(1, 11):\n",
    "    kmeans = KMeans(n_clusters = i, init = 'k-means++', random_state = 42)\n",
    "    kmeans.fit(X_pca_1)\n",
    "    s.append(kmeans.inertia_)"
   ]
  },
  {
   "cell_type": "code",
   "execution_count": 20,
   "metadata": {
    "execution": {
     "iopub.execute_input": "2021-03-22T17:13:12.729563Z",
     "iopub.status.busy": "2021-03-22T17:13:12.728629Z",
     "iopub.status.idle": "2021-03-22T17:13:12.877160Z",
     "shell.execute_reply": "2021-03-22T17:13:12.876604Z"
    },
    "papermill": {
     "duration": 0.177198,
     "end_time": "2021-03-22T17:13:12.877305",
     "exception": false,
     "start_time": "2021-03-22T17:13:12.700107",
     "status": "completed"
    },
    "tags": []
   },
   "outputs": [
    {
     "data": {
      "image/png": "[encoded data removed]",
      "text/plain": [
       "<Figure size 432x288 with 1 Axes>"
      ]
     },
     "metadata": {},
     "output_type": "display_data"
    }
   ],
   "source": [
    "plt.style.use(\"fivethirtyeight\")\n",
    "plt.plot(range(1, 11), s)\n",
    "plt.xticks(range(1, 11))\n",
    "plt.xlabel(\"Number of Clusters\")\n",
    "plt.ylabel(\"Score\")\n",
    "plt.show()"
   ]
  },
  {
   "cell_type": "code",
   "execution_count": 21,
   "metadata": {
    "execution": {
     "iopub.execute_input": "2021-03-22T17:13:12.931872Z",
     "iopub.status.busy": "2021-03-22T17:13:12.931118Z",
     "iopub.status.idle": "2021-03-22T17:13:21.309089Z",
     "shell.execute_reply": "2021-03-22T17:13:21.308585Z"
    },
    "papermill": {
     "duration": 8.406016,
     "end_time": "2021-03-22T17:13:21.309230",
     "exception": false,
     "start_time": "2021-03-22T17:13:12.903214",
     "status": "completed"
    },
    "tags": []
   },
   "outputs": [
    {
     "name": "stdout",
     "output_type": "stream",
     "text": [
      "Collecting kneed\r\n",
      "  Downloading kneed-0.7.0-py2.py3-none-any.whl (9.4 kB)\r\n",
      "Requirement already satisfied: numpy>=1.14.2 in /opt/conda/lib/python3.7/site-packages (from kneed) (1.19.5)\r\n",
      "Requirement already satisfied: scipy in /opt/conda/lib/python3.7/site-packages (from kneed) (1.5.4)\r\n",
      "Requirement already satisfied: matplotlib in /opt/conda/lib/python3.7/site-packages (from kneed) (3.3.3)\r\n",
      "Requirement already satisfied: pyparsing!=2.0.4,!=2.1.2,!=2.1.6,>=2.0.3 in /opt/conda/lib/python3.7/site-packages (from matplotlib->kneed) (2.4.7)\r\n",
      "Requirement already satisfied: cycler>=0.10 in /opt/conda/lib/python3.7/site-packages (from matplotlib->kneed) (0.10.0)\r\n",
      "Requirement already satisfied: pillow>=6.2.0 in /opt/conda/lib/python3.7/site-packages (from matplotlib->kneed) (7.2.0)\r\n",
      "Requirement already satisfied: kiwisolver>=1.0.1 in /opt/conda/lib/python3.7/site-packages (from matplotlib->kneed) (1.3.1)\r\n",
      "Requirement already satisfied: python-dateutil>=2.1 in /opt/conda/lib/python3.7/site-packages (from matplotlib->kneed) (2.8.1)\r\n",
      "Requirement already satisfied: six in /opt/conda/lib/python3.7/site-packages (from cycler>=0.10->matplotlib->kneed) (1.15.0)\r\n",
      "Installing collected packages: kneed\r\n",
      "Successfully installed kneed-0.7.0\r\n",
      "Note: you may need to restart the kernel to use updated packages.\n"
     ]
    }
   ],
   "source": [
    "pip install kneed"
   ]
  },
  {
   "cell_type": "code",
   "execution_count": 22,
   "metadata": {
    "execution": {
     "iopub.execute_input": "2021-03-22T17:13:21.370425Z",
     "iopub.status.busy": "2021-03-22T17:13:21.369525Z",
     "iopub.status.idle": "2021-03-22T17:13:21.427140Z",
     "shell.execute_reply": "2021-03-22T17:13:21.426617Z"
    },
    "papermill": {
     "duration": 0.090556,
     "end_time": "2021-03-22T17:13:21.427287",
     "exception": false,
     "start_time": "2021-03-22T17:13:21.336731",
     "status": "completed"
    },
    "tags": []
   },
   "outputs": [
    {
     "data": {
      "text/plain": [
       "4"
      ]
     },
     "execution_count": 22,
     "metadata": {},
     "output_type": "execute_result"
    }
   ],
   "source": [
    "from kneed import KneeLocator\n",
    "kl = KneeLocator(range(1,11),s,curve=\"convex\",direction=\"decreasing\")\n",
    "kl.elbow"
   ]
  },
  {
   "cell_type": "markdown",
   "metadata": {
    "papermill": {
     "duration": 0.027818,
     "end_time": "2021-03-22T17:13:21.483016",
     "exception": false,
     "start_time": "2021-03-22T17:13:21.455198",
     "status": "completed"
    },
    "tags": []
   },
   "source": [
    "### Elbow point obtained is 4"
   ]
  }
 ],
 "metadata": {
  "kernelspec": {
   "display_name": "Python 3",
   "language": "python",
   "name": "python3"
  },
  "language_info": {
   "codemirror_mode": {
    "name": "ipython",
    "version": 3
   },
   "file_extension": ".py",
   "mimetype": "text/x-python",
   "name": "python",
   "nbconvert_exporter": "python",
   "pygments_lexer": "ipython3",
   "version": "3.7.9"
  },
  "papermill": {
   "default_parameters": {},
   "duration": 19.722558,
   "end_time": "2021-03-22T17:13:23.189661",
   "environment_variables": {},
   "exception": null,
   "input_path": "__notebook__.ipynb",
   "output_path": "__notebook__.ipynb",
   "parameters": {},
   "start_time": "2021-03-22T17:13:03.467103",
   "version": "2.2.2"
  }
 },
 "nbformat": 4,
 "nbformat_minor": 4
}
